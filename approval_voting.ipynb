{
 "cells": [
  {
   "cell_type": "code",
   "execution_count": 52,
   "metadata": {},
   "outputs": [],
   "source": [
    "from pabutools.election import Project, Instance, ApprovalBallot, ApprovalProfile, CardinalBallot, CumulativeBallot, CumulativeProfile, CardinalProfile\n",
    "from pabutools.election import Cost_Sat, Relative_Cost_Sat, Relative_Cost_Approx_Normaliser_Sat, CC_Sat, Cardinality_Sat\n",
    "from pabutools.rules import greedy_utilitarian_welfare, method_of_equal_shares, sequential_phragmen, max_additive_utilitarian_welfare"
   ]
  },
  {
   "cell_type": "markdown",
   "metadata": {},
   "source": [
    "## HOT DISHES\n"
   ]
  },
  {
   "cell_type": "code",
   "execution_count": 48,
   "metadata": {},
   "outputs": [
    {
     "name": "stdout",
     "output_type": "stream",
     "text": [
      "outcome: greedy\n",
      "outcome: [pizza]\n",
      "outcome cost: 100\n",
      "======================================================================\n",
      "outcome: equal_shares\n",
      "outcome: []\n",
      "outcome cost: 0\n",
      "======================================================================\n",
      "outcome: phragmen\n",
      "outcome: [pizza]\n",
      "outcome cost: 100\n"
     ]
    }
   ],
   "source": [
    "pizza = Project(\"pizza\", 100)\n",
    "falafel = Project(\"falafel\", 210)\n",
    "humus = Project(\"humus\", 170)\n",
    "\n",
    "instance = Instance([pizza, falafel, humus])\n",
    "instance.budget_limit = 109\n",
    "\n",
    "munz = ApprovalBallot([pizza, falafel, humus])\n",
    "mor = ApprovalBallot([pizza])\n",
    "noy = ApprovalBallot([pizza])\n",
    "roeiza = ApprovalBallot([pizza])\n",
    "ron = ApprovalBallot([])\n",
    "alon = ApprovalBallot([])\n",
    "perid = ApprovalBallot([pizza])\n",
    "avihai = ApprovalBallot([pizza])\n",
    "itai = ApprovalBallot([falafel])\n",
    "sagiv = ApprovalBallot([pizza])\n",
    "avi = ApprovalBallot([humus])\n",
    "kobi = ApprovalBallot([humus])\n",
    "noga = ApprovalBallot([pizza])\n",
    "\n",
    "profile = ApprovalProfile([munz, mor, noy, roeiza, ron, alon, perid, avihai, itai, sagiv, avi, kobi, noga])\n",
    "\n",
    "greedy_outcome = greedy_utilitarian_welfare(instance, profile, sat_class=Cost_Sat)\n",
    "greedy_outcome_cost = sum([project.cost for project in greedy_outcome])\n",
    "print(f'outcome: greedy')\n",
    "print(f'outcome: {greedy_outcome}')\n",
    "print(f'outcome cost: {greedy_outcome_cost}')\n",
    "print('='*70)\n",
    "\n",
    "equal_shares_outcome = method_of_equal_shares(instance, profile, sat_class=Cardinality_Sat)\n",
    "equal_shares_outcome_cost = sum([project.cost for project in equal_shares_outcome])\n",
    "print(f'outcome: equal_shares')\n",
    "print(f'outcome: {equal_shares_outcome}')\n",
    "print(f'outcome cost: {equal_shares_outcome_cost}')\n",
    "print('='*70)\n",
    "\n",
    "phragmen_outcome = sequential_phragmen(instance, profile)\n",
    "phragmen_outcome_cost = sum([project.cost for project in phragmen_outcome])\n",
    "print(f'outcome: phragmen')\n",
    "print(f'outcome: {phragmen_outcome}')\n",
    "print(f'outcome cost: {phragmen_outcome_cost}')                                        "
   ]
  },
  {
   "cell_type": "markdown",
   "metadata": {},
   "source": [
    "## COLD DISHES"
   ]
  },
  {
   "cell_type": "code",
   "execution_count": 41,
   "metadata": {},
   "outputs": [
    {
     "name": "stdout",
     "output_type": "stream",
     "text": [
      "outcome: greedy\n",
      "outcome: [baked_goods]\n",
      "outcome cost: 100\n",
      "======================================================================\n",
      "outcome: equal_shares\n",
      "outcome: []\n",
      "outcome cost: 0\n",
      "======================================================================\n",
      "outcome: phragmen\n",
      "outcome: [baked_goods]\n",
      "outcome cost: 100\n"
     ]
    }
   ],
   "source": [
    "fruits_and_vegetables = Project(\"fruits_and_vegetables\", 100)\n",
    "cheese_and_crackers = Project(\"cheese_and_crackers\", 100)\n",
    "baked_goods = Project(\"baked_goods\", 100)\n",
    "\n",
    "instance = Instance([fruits_and_vegetables, cheese_and_crackers, baked_goods])\n",
    "instance.budget_limit = 100\n",
    "\n",
    "munz = ApprovalBallot([baked_goods])\n",
    "mor = ApprovalBallot([fruits_and_vegetables])\n",
    "noy = ApprovalBallot([baked_goods])\n",
    "roeiza = ApprovalBallot([])\n",
    "ron = ApprovalBallot([baked_goods])\n",
    "alon = ApprovalBallot([])\n",
    "perid = ApprovalBallot([baked_goods])\n",
    "avihai = ApprovalBallot([cheese_and_crackers])\n",
    "itai = ApprovalBallot([])\n",
    "sagiv = ApprovalBallot([baked_goods])\n",
    "avi = ApprovalBallot([cheese_and_crackers, fruits_and_vegetables])\n",
    "kobi = ApprovalBallot([cheese_and_crackers, fruits_and_vegetables])\n",
    "noga = ApprovalBallot([baked_goods])\n",
    "\n",
    "profile = ApprovalProfile([munz, mor, noy, roeiza, ron, alon, perid, avihai, itai, sagiv, avi, kobi, noga])\n",
    "\n",
    "greedy_outcome = greedy_utilitarian_welfare(instance, profile, sat_class=Cost_Sat)\n",
    "greedy_outcome_cost = sum([project.cost for project in greedy_outcome])\n",
    "print(f'outcome: greedy')\n",
    "print(f'outcome: {greedy_outcome}')\n",
    "print(f'outcome cost: {greedy_outcome_cost}')\n",
    "print('='*70)\n",
    "\n",
    "equal_shares_outcome = method_of_equal_shares(instance, profile, sat_class=Cost_Sat)\n",
    "equal_shares_outcome_cost = sum([project.cost for project in equal_shares_outcome])\n",
    "print(f'outcome: equal_shares')\n",
    "print(f'outcome: {equal_shares_outcome}')\n",
    "print(f'outcome cost: {equal_shares_outcome_cost}')\n",
    "print('='*70)\n",
    "\n",
    "phragmen_outcome = sequential_phragmen(instance, profile)\n",
    "phragmen_outcome_cost = sum([project.cost for project in phragmen_outcome])\n",
    "print(f'outcome: phragmen')\n",
    "print(f'outcome: {phragmen_outcome}')\n",
    "print(f'outcome cost: {phragmen_outcome_cost}')                  "
   ]
  },
  {
   "cell_type": "markdown",
   "metadata": {},
   "source": [
    "## SNACKS"
   ]
  },
  {
   "cell_type": "code",
   "execution_count": 42,
   "metadata": {},
   "outputs": [
    {
     "name": "stdout",
     "output_type": "stream",
     "text": [
      "outcome: greedy\n",
      "outcome: [salty_snacks]\n",
      "outcome cost: 40\n",
      "======================================================================\n",
      "outcome: equal_shares\n",
      "outcome: []\n",
      "outcome cost: 0\n",
      "======================================================================\n",
      "outcome: phragmen\n",
      "outcome: [salty_snacks]\n",
      "outcome cost: 40\n"
     ]
    }
   ],
   "source": [
    "salty_snacks = Project(\"salty_snacks\", 40)\n",
    "nut_mix = Project(\"nut_mix\", 40)\n",
    "\n",
    "instance = Instance([salty_snacks, nut_mix])\n",
    "instance.budget_limit = 40\n",
    "\n",
    "munz = ApprovalBallot([])\n",
    "mor = ApprovalBallot([])\n",
    "noy = ApprovalBallot([salty_snacks])\n",
    "roeiza = ApprovalBallot([])\n",
    "ron = ApprovalBallot([salty_snacks])\n",
    "alon = ApprovalBallot([])\n",
    "perid = ApprovalBallot([])\n",
    "avihai = ApprovalBallot([])\n",
    "itai = ApprovalBallot([salty_snacks])\n",
    "sagiv = ApprovalBallot([])\n",
    "avi = ApprovalBallot([])\n",
    "kobi = ApprovalBallot([])\n",
    "noga = ApprovalBallot([])\n",
    "\n",
    "profile = ApprovalProfile([munz, mor, noy, roeiza, ron, alon, perid, avihai, itai, sagiv, avi, kobi, noga])\n",
    "\n",
    "greedy_outcome = greedy_utilitarian_welfare(instance, profile, sat_class=Cost_Sat)\n",
    "greedy_outcome_cost = sum([project.cost for project in greedy_outcome])\n",
    "print(f'outcome: greedy')\n",
    "print(f'outcome: {greedy_outcome}')\n",
    "print(f'outcome cost: {greedy_outcome_cost}')\n",
    "print('='*70)\n",
    "\n",
    "equal_shares_outcome = method_of_equal_shares(instance, profile, sat_class=Cost_Sat)\n",
    "equal_shares_outcome_cost = sum([project.cost for project in equal_shares_outcome])\n",
    "print(f'outcome: equal_shares')\n",
    "print(f'outcome: {equal_shares_outcome}')\n",
    "print(f'outcome cost: {equal_shares_outcome_cost}')\n",
    "print('='*70)\n",
    "\n",
    "phragmen_outcome = sequential_phragmen(instance, profile)\n",
    "phragmen_outcome_cost = sum([project.cost for project in phragmen_outcome])\n",
    "print(f'outcome: phragmen')\n",
    "print(f'outcome: {phragmen_outcome}')\n",
    "print(f'outcome cost: {phragmen_outcome_cost}')                  "
   ]
  },
  {
   "cell_type": "markdown",
   "metadata": {},
   "source": [
    "## SWEETS"
   ]
  },
  {
   "cell_type": "code",
   "execution_count": 43,
   "metadata": {},
   "outputs": [
    {
     "name": "stdout",
     "output_type": "stream",
     "text": [
      "outcome: greedy\n",
      "outcome: [ice_cream]\n",
      "outcome cost: 76\n",
      "======================================================================\n",
      "outcome: equal_shares\n",
      "outcome: []\n",
      "outcome cost: 0\n",
      "======================================================================\n",
      "outcome: phragmen\n",
      "outcome: [cake]\n",
      "outcome cost: 22\n"
     ]
    }
   ],
   "source": [
    "ice_cream = Project(\"ice_cream\", 76)\n",
    "cake = Project(\"cake\", 22)\n",
    "cookies = Project(\"cookies\", 40)\n",
    "chocolates_and_candies = Project(\"chocolates_and_candies\", 70)\n",
    "\n",
    "instance = Instance([ice_cream, cake, cookies, chocolates_and_candies])\n",
    "instance.budget_limit = 76\n",
    "\n",
    "munz = ApprovalBallot([ice_cream])\n",
    "mor = ApprovalBallot([])\n",
    "noy = ApprovalBallot([ice_cream])\n",
    "roeiza = ApprovalBallot([])\n",
    "ron = ApprovalBallot([cake, cookies])\n",
    "alon = ApprovalBallot([])\n",
    "perid = ApprovalBallot([cake, cookies])\n",
    "avihai = ApprovalBallot([ice_cream])\n",
    "itai = ApprovalBallot([ice_cream])\n",
    "sagiv = ApprovalBallot([])\n",
    "avi = ApprovalBallot([])\n",
    "kobi = ApprovalBallot([])\n",
    "noga = ApprovalBallot([ice_cream])\n",
    "\n",
    "profile = ApprovalProfile([munz, mor, noy, roeiza, ron, alon, perid, avihai, itai, sagiv, avi, kobi, noga])\n",
    "\n",
    "greedy_outcome = greedy_utilitarian_welfare(instance, profile, sat_class=Cost_Sat)\n",
    "greedy_outcome_cost = sum([project.cost for project in greedy_outcome])\n",
    "print(f'outcome: greedy')\n",
    "print(f'outcome: {greedy_outcome}')\n",
    "print(f'outcome cost: {greedy_outcome_cost}')\n",
    "print('='*70)\n",
    "\n",
    "equal_shares_outcome = method_of_equal_shares(instance, profile, sat_class=Cost_Sat)\n",
    "equal_shares_outcome_cost = sum([project.cost for project in equal_shares_outcome])\n",
    "print(f'outcome: equal_shares')\n",
    "print(f'outcome: {equal_shares_outcome}')\n",
    "print(f'outcome cost: {equal_shares_outcome_cost}')\n",
    "print('='*70)\n",
    "\n",
    "phragmen_outcome = sequential_phragmen(instance, profile)\n",
    "phragmen_outcome_cost = sum([project.cost for project in phragmen_outcome])\n",
    "print(f'outcome: phragmen')\n",
    "print(f'outcome: {phragmen_outcome}')\n",
    "print(f'outcome cost: {phragmen_outcome_cost}')                  "
   ]
  },
  {
   "cell_type": "markdown",
   "metadata": {},
   "source": [
    "## DRINKS"
   ]
  },
  {
   "cell_type": "code",
   "execution_count": 44,
   "metadata": {},
   "outputs": [
    {
     "name": "stdout",
     "output_type": "stream",
     "text": [
      "outcome: greedy\n",
      "outcome: [juice, soft_drinks, water]\n",
      "outcome cost: 40\n",
      "======================================================================\n",
      "outcome: equal_shares\n",
      "outcome: [juice]\n",
      "outcome cost: 13\n",
      "======================================================================\n",
      "outcome: phragmen\n",
      "outcome: [juice, soft_drinks, water]\n",
      "outcome cost: 40\n"
     ]
    }
   ],
   "source": [
    "juice = Project(\"juice\", 13)\n",
    "water = Project(\"water\", 9)\n",
    "sparkling_water = Project(\"sparkling_water\", 14)\n",
    "soft_drinks = Project(\"soft_drinks\", 18)\n",
    "\n",
    "instance = Instance([juice, water, sparkling_water, soft_drinks])\n",
    "instance.budget_limit = 45\n",
    "\n",
    "munz = ApprovalBallot([soft_drinks])\n",
    "mor = ApprovalBallot([])\n",
    "noy = ApprovalBallot([])\n",
    "roeiza = ApprovalBallot([soft_drinks])\n",
    "ron = ApprovalBallot([juice])\n",
    "alon = ApprovalBallot([soft_drinks])\n",
    "perid = ApprovalBallot([juice, water, sparkling_water, soft_drinks])\n",
    "avihai = ApprovalBallot([juice])\n",
    "itai = ApprovalBallot([juice, water])\n",
    "sagiv = ApprovalBallot([water])\n",
    "avi = ApprovalBallot([water, sparkling_water])\n",
    "kobi = ApprovalBallot([sparkling_water])\n",
    "noga = ApprovalBallot([])\n",
    "\n",
    "profile = ApprovalProfile([munz, mor, noy, roeiza, ron, alon, perid, avihai, itai, sagiv, avi, kobi, noga])\n",
    "\n",
    "greedy_outcome = greedy_utilitarian_welfare(instance, profile, sat_class=Cost_Sat)\n",
    "greedy_outcome_cost = sum([project.cost for project in greedy_outcome])\n",
    "print(f'outcome: greedy')\n",
    "print(f'outcome: {greedy_outcome}')\n",
    "print(f'outcome cost: {greedy_outcome_cost}')\n",
    "print('='*70)\n",
    "\n",
    "equal_shares_outcome = method_of_equal_shares(instance, profile, sat_class=Cost_Sat)\n",
    "equal_shares_outcome_cost = sum([project.cost for project in equal_shares_outcome])\n",
    "print(f'outcome: equal_shares')\n",
    "print(f'outcome: {equal_shares_outcome}')\n",
    "print(f'outcome cost: {equal_shares_outcome_cost}')\n",
    "print('='*70)\n",
    "\n",
    "phragmen_outcome = sequential_phragmen(instance, profile)\n",
    "phragmen_outcome_cost = sum([project.cost for project in phragmen_outcome])\n",
    "print(f'outcome: phragmen')\n",
    "print(f'outcome: {phragmen_outcome}')\n",
    "print(f'outcome cost: {phragmen_outcome_cost}')                  "
   ]
  },
  {
   "cell_type": "markdown",
   "metadata": {},
   "source": [
    "# Food"
   ]
  },
  {
   "cell_type": "code",
   "execution_count": 68,
   "metadata": {},
   "outputs": [
    {
     "name": "stdout",
     "output_type": "stream",
     "text": [
      "outcome: greedy\n",
      "outcome: [pizza, baked_goods, ice_cream, juice, soft_drinks, water]\n",
      "outcome cost: 365\n",
      "======================================================================\n",
      "outcome: equal_shares\n",
      "outcome: [pizza, juice, soft_drinks, water, sparkling_water, salty_snacks]\n",
      "outcome cost: 214\n",
      "======================================================================\n",
      "outcome: phragmen\n",
      "outcome: [cake, cookies, ice_cream, juice, pizza, soft_drinks, sparkling_water, water]\n",
      "outcome cost: 306\n"
     ]
    }
   ],
   "source": [
    "pizza = Project(\"pizza\", 100)\n",
    "falafel = Project(\"falafel\", 210)\n",
    "humus = Project(\"humus\", 170)\n",
    "fruits_and_vegetables = Project(\"fruits_and_vegetables\", 100)\n",
    "cheese_and_crackers = Project(\"cheese_and_crackers\", 100)\n",
    "baked_goods = Project(\"baked_goods\", 135)\n",
    "salty_snacks = Project(\"salty_snacks\", 60)\n",
    "nut_mix = Project(\"nut_mix\", 100)\n",
    "ice_cream = Project(\"ice_cream\", 90)\n",
    "cake = Project(\"cake\", 22)\n",
    "cookies = Project(\"cookies\", 40)\n",
    "chocolates_and_candies = Project(\"chocolates_and_candies\", 70)\n",
    "juice = Project(\"juice\", 13)\n",
    "water = Project(\"water\", 9)\n",
    "sparkling_water = Project(\"sparkling_water\", 14)\n",
    "soft_drinks = Project(\"soft_drinks\", 18)\n",
    "\n",
    "instance = Instance([pizza, falafel, humus, fruits_and_vegetables, cheese_and_crackers, baked_goods, salty_snacks, nut_mix, ice_cream, cake, cookies, chocolates_and_candies, juice, water, sparkling_water, soft_drinks])\n",
    "instance.budget_limit = 370\n",
    "\n",
    "munz = ApprovalBallot([soft_drinks, pizza, falafel, humus, baked_goods, ice_cream])\n",
    "mor = ApprovalBallot([pizza, fruits_and_vegetables])\n",
    "noy = ApprovalBallot([pizza, baked_goods, salty_snacks, ice_cream])\n",
    "roeiza = ApprovalBallot([soft_drinks, pizza])\n",
    "ron = ApprovalBallot([juice, baked_goods, salty_snacks, cake, cookies])\n",
    "alon = ApprovalBallot([soft_drinks])\n",
    "perid = ApprovalBallot([juice, water, sparkling_water, soft_drinks, pizza, baked_goods, cake, cookies])\n",
    "avihai = ApprovalBallot([juice, pizza, cheese_and_crackers, ice_cream])\n",
    "itai = ApprovalBallot([juice, water, falafel, salty_snacks, ice_cream])\n",
    "sagiv = ApprovalBallot([water, pizza, baked_goods])\n",
    "avi = ApprovalBallot([water, sparkling_water, humus, cheese_and_crackers, fruits_and_vegetables])\n",
    "kobi = ApprovalBallot([sparkling_water, humus, cheese_and_crackers, fruits_and_vegetables])\n",
    "noga = ApprovalBallot([baked_goods, ice_cream])\n",
    "\n",
    "profile = ApprovalProfile([munz, mor, noy, roeiza, ron, alon, perid, avihai, itai, sagiv, avi, kobi, noga])\n",
    "\n",
    "greedy_outcome = greedy_utilitarian_welfare(instance, profile, sat_class=Cost_Sat)\n",
    "greedy_outcome_cost = sum([project.cost for project in greedy_outcome])\n",
    "print(f'outcome: greedy')\n",
    "print(f'outcome: {greedy_outcome}')\n",
    "print(f'outcome cost: {greedy_outcome_cost}')\n",
    "print('='*70)\n",
    "\n",
    "equal_shares_outcome = method_of_equal_shares(instance, profile, sat_class=Cost_Sat)\n",
    "equal_shares_outcome_cost = sum([project.cost for project in equal_shares_outcome])\n",
    "print(f'outcome: equal_shares')\n",
    "print(f'outcome: {equal_shares_outcome}')\n",
    "print(f'outcome cost: {equal_shares_outcome_cost}')\n",
    "print('='*70)\n",
    "\n",
    "phragmen_outcome = sequential_phragmen(instance, profile)\n",
    "phragmen_outcome_cost = sum([project.cost for project in phragmen_outcome])\n",
    "print(f'outcome: phragmen')\n",
    "print(f'outcome: {phragmen_outcome}')\n",
    "print(f'outcome cost: {phragmen_outcome_cost}')               "
   ]
  }
 ],
 "metadata": {
  "kernelspec": {
   "display_name": "Python 3",
   "language": "python",
   "name": "python3"
  },
  "language_info": {
   "codemirror_mode": {
    "name": "ipython",
    "version": 3
   },
   "file_extension": ".py",
   "mimetype": "text/x-python",
   "name": "python",
   "nbconvert_exporter": "python",
   "pygments_lexer": "ipython3",
   "version": "3.11.9"
  }
 },
 "nbformat": 4,
 "nbformat_minor": 2
}
