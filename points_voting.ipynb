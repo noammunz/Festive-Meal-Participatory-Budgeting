{
 "cells": [
  {
   "cell_type": "code",
   "execution_count": 1,
   "metadata": {},
   "outputs": [],
   "source": [
    "from pabutools.election import Project, Instance, ApprovalBallot, ApprovalProfile, CardinalBallot, CumulativeBallot, CumulativeProfile, CardinalProfile\n",
    "from pabutools.election import Cost_Sat, Relative_Cost_Sat, Relative_Cost_Approx_Normaliser_Sat, CC_Sat, Cardinality_Sat\n",
    "from pabutools.rules import greedy_utilitarian_welfare, method_of_equal_shares, sequential_phragmen, max_additive_utilitarian_welfare"
   ]
  },
  {
   "cell_type": "code",
   "execution_count": 6,
   "metadata": {},
   "outputs": [
    {
     "name": "stdout",
     "output_type": "stream",
     "text": [
      "outcome: greedy\n",
      "outcome: [pizza]\n",
      "outcome cost: 100\n",
      "======================================================================\n",
      "outcome: equal_shares\n",
      "outcome: []\n",
      "outcome cost: 0\n",
      "======================================================================\n"
     ]
    }
   ],
   "source": [
    "pizza = Project(\"pizza\", 100)\n",
    "falafel = Project(\"falafel\", 210)\n",
    "humus = Project(\"humus\", 170)\n",
    "\n",
    "instance = Instance([pizza, falafel, humus])\n",
    "instance.budget_limit = 109\n",
    "\n",
    "munz = CardinalBallot({pizza: 18, falafel: 7, humus: 7})\n",
    "mor = CardinalBallot({pizza: 100})\n",
    "noy = CardinalBallot({pizza: 40})\n",
    "roeiza = CardinalBallot({pizza: 30, falafel: 60})\n",
    "alon = CardinalBallot({pizza: 100})\n",
    "perid = CardinalBallot({pizza: 14})\n",
    "avihai = CardinalBallot({pizza: 70})\n",
    "itai = CardinalBallot({falafel: 33})\n",
    "sagiv = CardinalBallot({pizza: 71})\n",
    "kobi = CardinalBallot({humus: 25})\n",
    "noga = CardinalBallot({pizza: 89})\n",
    "\n",
    "profile = CardinalProfile([munz, mor, noy, roeiza, alon, perid, avihai, itai, sagiv, kobi, noga])\n",
    "\n",
    "greedy_outcome = greedy_utilitarian_welfare(instance, profile, sat_class=Cost_Sat)\n",
    "greedy_outcome_cost = sum([project.cost for project in greedy_outcome])\n",
    "print(f'outcome: greedy')\n",
    "print(f'outcome: {greedy_outcome}')\n",
    "print(f'outcome cost: {greedy_outcome_cost}')\n",
    "print('='*70)\n",
    "\n",
    "equal_shares_outcome = method_of_equal_shares(instance, profile, sat_class=Cost_Sat)\n",
    "equal_shares_outcome_cost = sum([project.cost for project in equal_shares_outcome])\n",
    "print(f'outcome: equal_shares')\n",
    "print(f'outcome: {equal_shares_outcome}')\n",
    "print(f'outcome cost: {equal_shares_outcome_cost}')\n",
    "print('='*70)"
   ]
  },
  {
   "cell_type": "markdown",
   "metadata": {},
   "source": [
    "## COLD DISHES"
   ]
  },
  {
   "cell_type": "code",
   "execution_count": 12,
   "metadata": {},
   "outputs": [
    {
     "name": "stdout",
     "output_type": "stream",
     "text": [
      "outcome: greedy\n",
      "outcome: [baked_goods]\n",
      "outcome cost: 100\n",
      "======================================================================\n",
      "outcome: equal_shares\n",
      "outcome: []\n",
      "outcome cost: 0\n",
      "======================================================================\n"
     ]
    }
   ],
   "source": [
    "fruits_and_vegetables = Project(\"fruits_and_vegetables\", 100)\n",
    "cheese_and_crackers = Project(\"cheese_and_crackers\", 100)\n",
    "baked_goods = Project(\"baked_goods\", 100)\n",
    "\n",
    "instance = Instance([fruits_and_vegetables, cheese_and_crackers, baked_goods])\n",
    "instance.budget_limit = 100\n",
    "\n",
    "munz = CardinalBallot({cheese_and_crackers: 9, baked_goods: 9})\n",
    "noy = CardinalBallot({baked_goods: 20})\n",
    "ron = CardinalBallot({baked_goods: 10})\n",
    "perid = CardinalBallot({fruits_and_vegetables: 5, cheese_and_crackers: 9, baked_goods: 9})\n",
    "sagiv = CardinalBallot({baked_goods: 29})\n",
    "avi = CardinalBallot({fruits_and_vegetables: 56, cheese_and_crackers: 19, baked_goods: 13})\n",
    "kobi = CardinalBallot({fruits_and_vegetables: 25, cheese_and_crackers: 25})\n",
    "noga = CardinalBallot({fruits_and_vegetables: 6, baked_goods: 5})\n",
    "\n",
    "profile = CardinalProfile([munz, noy, ron, perid, sagiv, avi, kobi, noga])\n",
    "\n",
    "greedy_outcome = greedy_utilitarian_welfare(instance, profile, sat_class=Cost_Sat)\n",
    "greedy_outcome_cost = sum([project.cost for project in greedy_outcome])\n",
    "print(f'outcome: greedy')\n",
    "print(f'outcome: {greedy_outcome}')\n",
    "print(f'outcome cost: {greedy_outcome_cost}')\n",
    "print('='*70)\n",
    "\n",
    "equal_shares_outcome = method_of_equal_shares(instance, profile, sat_class=Cost_Sat)\n",
    "equal_shares_outcome_cost = sum([project.cost for project in equal_shares_outcome])\n",
    "print(f'outcome: equal_shares')\n",
    "print(f'outcome: {equal_shares_outcome}')\n",
    "print(f'outcome cost: {equal_shares_outcome_cost}')\n",
    "print('='*70)"
   ]
  },
  {
   "cell_type": "markdown",
   "metadata": {},
   "source": [
    "## SNACKS"
   ]
  },
  {
   "cell_type": "code",
   "execution_count": 2,
   "metadata": {},
   "outputs": [
    {
     "name": "stdout",
     "output_type": "stream",
     "text": [
      "outcome: greedy\n",
      "outcome: [salty_snacks]\n",
      "outcome cost: 40\n",
      "======================================================================\n",
      "outcome: equal_shares\n",
      "outcome: []\n",
      "outcome cost: 0\n",
      "======================================================================\n"
     ]
    }
   ],
   "source": [
    "salty_snacks = Project(\"salty_snacks\", 40)\n",
    "nut_mix = Project(\"nut_mix\", 40)\n",
    "\n",
    "instance = Instance([salty_snacks, nut_mix])\n",
    "instance.budget_limit = 40\n",
    "\n",
    "munz = CardinalBallot({nut_mix: 4})\n",
    "noy = CardinalBallot({salty_snacks: 20})\n",
    "ron = CardinalBallot({salty_snacks: 10})\n",
    "itai = CardinalBallot({salty_snacks: 22})\n",
    "\n",
    "\n",
    "# profile = CardinalProfile([munz, mor, noy, roeiza, ron, alon, perid, avihai, itai, sagiv, avi, kobi, noga])\n",
    "profile = CardinalProfile([munz, noy, ron, itai])\n",
    "\n",
    "greedy_outcome = greedy_utilitarian_welfare(instance, profile, sat_class=Cost_Sat)\n",
    "greedy_outcome_cost = sum([project.cost for project in greedy_outcome])\n",
    "print(f'outcome: greedy')\n",
    "print(f'outcome: {greedy_outcome}')\n",
    "print(f'outcome cost: {greedy_outcome_cost}')\n",
    "print('='*70)\n",
    "\n",
    "equal_shares_outcome = method_of_equal_shares(instance, profile, sat_class=Cost_Sat)\n",
    "equal_shares_outcome_cost = sum([project.cost for project in equal_shares_outcome])\n",
    "print(f'outcome: equal_shares')\n",
    "print(f'outcome: {equal_shares_outcome}')\n",
    "print(f'outcome cost: {equal_shares_outcome_cost}')\n",
    "print('='*70)"
   ]
  },
  {
   "cell_type": "markdown",
   "metadata": {},
   "source": [
    "## SWEETS"
   ]
  },
  {
   "cell_type": "code",
   "execution_count": 14,
   "metadata": {},
   "outputs": [
    {
     "name": "stdout",
     "output_type": "stream",
     "text": [
      "outcome: greedy\n",
      "outcome: [ice_cream]\n",
      "outcome cost: 76\n",
      "======================================================================\n",
      "outcome: equal_shares\n",
      "outcome: [cake]\n",
      "outcome cost: 22\n",
      "======================================================================\n"
     ]
    }
   ],
   "source": [
    "ice_cream = Project(\"ice_cream\", 76)\n",
    "cake = Project(\"cake\", 22)\n",
    "cookies = Project(\"cookies\", 40)\n",
    "\n",
    "instance = Instance([ice_cream, cake, cookies])\n",
    "instance.budget_limit = 76\n",
    "\n",
    "munz = CardinalBallot({ice_cream: 12, cake: 6, cookies: 6})\n",
    "noy = CardinalBallot({ice_cream: 20})\n",
    "ron = CardinalBallot({cake: 40, cookies: 40})\n",
    "perid = CardinalBallot({cake: 9, cookies: 9})\n",
    "avihai = CardinalBallot({ice_cream: 20})\n",
    "itai = CardinalBallot({ice_cream: 22})\n",
    "\n",
    "\n",
    "# profile = CardinalProfile([munz, mor, noy, roeiza, ron, alon, perid, avihai, itai, sagiv, avi, kobi, noga])\n",
    "profile = CardinalProfile([munz, noy, ron, perid, avihai, itai])\n",
    "\n",
    "greedy_outcome = greedy_utilitarian_welfare(instance, profile, sat_class=Cost_Sat)\n",
    "greedy_outcome_cost = sum([project.cost for project in greedy_outcome])\n",
    "print(f'outcome: greedy')\n",
    "print(f'outcome: {greedy_outcome}')\n",
    "print(f'outcome cost: {greedy_outcome_cost}')\n",
    "print('='*70)\n",
    "\n",
    "equal_shares_outcome = method_of_equal_shares(instance, profile, sat_class=Cost_Sat)\n",
    "equal_shares_outcome_cost = sum([project.cost for project in equal_shares_outcome])\n",
    "print(f'outcome: equal_shares')\n",
    "print(f'outcome: {equal_shares_outcome}')\n",
    "print(f'outcome cost: {equal_shares_outcome_cost}')\n",
    "print('='*70)"
   ]
  },
  {
   "cell_type": "code",
   "execution_count": 15,
   "metadata": {},
   "outputs": [
    {
     "name": "stdout",
     "output_type": "stream",
     "text": [
      "outcome: greedy\n",
      "outcome: [juice, soft_drinks, sparkling_water]\n",
      "outcome cost: 45\n",
      "======================================================================\n",
      "outcome: equal_shares\n",
      "outcome: [juice]\n",
      "outcome cost: 13\n",
      "======================================================================\n"
     ]
    }
   ],
   "source": [
    "juice = Project(\"juice\", 13)\n",
    "water = Project(\"water\", 9)\n",
    "sparkling_water = Project(\"sparkling_water\", 14)\n",
    "soft_drinks = Project(\"soft_drinks\", 18)\n",
    "\n",
    "instance = Instance([juice, water, sparkling_water, soft_drinks])\n",
    "instance.budget_limit = 45\n",
    "\n",
    "munz = CardinalBallot({soft_drinks: 22})\n",
    "roeiza = CardinalBallot({soft_drinks: 10})\n",
    "perid = CardinalBallot({juice: 9, water: 5, sparkling_water: 5, soft_drinks: 26})\n",
    "avihai = CardinalBallot({juice: 10})\n",
    "itai = CardinalBallot({juice: 23})\n",
    "avi = CardinalBallot({water: 12})\n",
    "kobi = CardinalBallot({sparkling_water: 25})\n",
    "\n",
    "profile = CardinalProfile([munz, roeiza, perid, avihai, itai, avi, kobi])\n",
    "\n",
    "greedy_outcome = greedy_utilitarian_welfare(instance, profile, sat_class=Cost_Sat)\n",
    "greedy_outcome_cost = sum([project.cost for project in greedy_outcome])\n",
    "print(f'outcome: greedy')\n",
    "print(f'outcome: {greedy_outcome}')\n",
    "print(f'outcome cost: {greedy_outcome_cost}')\n",
    "print('='*70)\n",
    "\n",
    "equal_shares_outcome = method_of_equal_shares(instance, profile, sat_class=Cost_Sat)\n",
    "equal_shares_outcome_cost = sum([project.cost for project in equal_shares_outcome])\n",
    "print(f'outcome: equal_shares')\n",
    "print(f'outcome: {equal_shares_outcome}')\n",
    "print(f'outcome cost: {equal_shares_outcome_cost}')\n",
    "print('='*70)"
   ]
  },
  {
   "cell_type": "code",
   "execution_count": 17,
   "metadata": {},
   "outputs": [
    {
     "name": "stdout",
     "output_type": "stream",
     "text": [
      "outcome: greedy\n",
      "outcome: [pizza, baked_goods, cheese_and_crackers, cake, juice]\n",
      "outcome cost: 370\n",
      "======================================================================\n",
      "outcome: equal_shares\n",
      "outcome: [pizza, baked_goods, juice, sparkling_water]\n",
      "outcome cost: 262\n"
     ]
    }
   ],
   "source": [
    "pizza = Project(\"pizza\", 100)\n",
    "falafel = Project(\"falafel\", 210)\n",
    "humus = Project(\"humus\", 170)\n",
    "fruits_and_vegetables = Project(\"fruits_and_vegetables\", 100)\n",
    "cheese_and_crackers = Project(\"cheese_and_crackers\", 100)\n",
    "baked_goods = Project(\"baked_goods\", 135)\n",
    "salty_snacks = Project(\"salty_snacks\", 60)\n",
    "nut_mix = Project(\"nut_mix\", 100)\n",
    "ice_cream = Project(\"ice_cream\", 90)\n",
    "cake = Project(\"cake\", 22)\n",
    "cookies = Project(\"cookies\", 40)\n",
    "chocolates_and_candies = Project(\"chocolates_and_candies\", 70)\n",
    "juice = Project(\"juice\", 13)\n",
    "water = Project(\"water\", 9)\n",
    "sparkling_water = Project(\"sparkling_water\", 14)\n",
    "soft_drinks = Project(\"soft_drinks\", 18)\n",
    "\n",
    "instance = Instance([pizza, falafel, humus, fruits_and_vegetables, cheese_and_crackers, baked_goods, salty_snacks, nut_mix, ice_cream, cake, cookies, chocolates_and_candies, juice, water, sparkling_water, soft_drinks])\n",
    "instance.budget_limit = 370\n",
    "\n",
    "munz = CardinalBallot({pizza: 18, falafel: 7, humus: 7, cheese_and_crackers: 9, baked_goods: 9, nut_mix: 4, ice_cream: 12, cake: 6, cookies: 6, soft_drinks: 22})\n",
    "mor = CardinalBallot({pizza: 100})\n",
    "noy = CardinalBallot({pizza: 40, baked_goods: 20, salty_snacks: 20, ice_cream: 20})\n",
    "roeiza = CardinalBallot({pizza: 30, falafel: 60, soft_drinks: 10})\n",
    "ron = CardinalBallot({baked_goods: 10, salty_snacks: 10, cake: 40, cookies: 40})\n",
    "alon = CardinalBallot({pizza: 100})\n",
    "perid = CardinalBallot({pizza: 14, fruits_and_vegetables: 5, cheese_and_crackers: 9, baked_goods: 9, cake: 9, cookies: 9, juice: 9, water: 5, sparkling_water: 5, soft_drinks: 26})\n",
    "avihai = CardinalBallot({pizza: 70, ice_cream: 20, juice: 10})\n",
    "itai = CardinalBallot({falafel: 33, salty_snacks: 22, ice_cream: 22, juice: 23})\n",
    "sagiv = CardinalBallot({pizza: 71, baked_goods: 29})\n",
    "avi = CardinalBallot({fruits_and_vegetables: 56, cheese_and_crackers: 19, baked_goods: 13, water: 12})\n",
    "kobi = CardinalBallot({humus: 25, fruits_and_vegetables: 25, cheese_and_crackers: 25,sparkling_water: 25})\n",
    "noga = CardinalBallot({pizza: 89, fruits_and_vegetables: 6, baked_goods: 5})\n",
    "\n",
    "profile = CardinalProfile([munz, mor, noy, roeiza, ron, alon, perid, avihai, itai, sagiv, avi, kobi, noga])\n",
    "\n",
    "greedy_outcome = greedy_utilitarian_welfare(instance, profile, sat_class=Cost_Sat)\n",
    "greedy_outcome_cost = sum([project.cost for project in greedy_outcome])\n",
    "print(f'outcome: greedy')\n",
    "print(f'outcome: {greedy_outcome}')\n",
    "print(f'outcome cost: {greedy_outcome_cost}')\n",
    "print('='*70)\n",
    "\n",
    "equal_shares_outcome = method_of_equal_shares(instance, profile, sat_class=Cost_Sat)\n",
    "equal_shares_outcome_cost = sum([project.cost for project in equal_shares_outcome])\n",
    "print(f'outcome: equal_shares')\n",
    "print(f'outcome: {equal_shares_outcome}')\n",
    "print(f'outcome cost: {equal_shares_outcome_cost}')             "
   ]
  },
  {
   "cell_type": "code",
   "execution_count": null,
   "metadata": {},
   "outputs": [],
   "source": []
  },
  {
   "cell_type": "code",
   "execution_count": null,
   "metadata": {},
   "outputs": [],
   "source": []
  },
  {
   "cell_type": "code",
   "execution_count": null,
   "metadata": {},
   "outputs": [],
   "source": []
  },
  {
   "cell_type": "code",
   "execution_count": null,
   "metadata": {},
   "outputs": [],
   "source": []
  },
  {
   "cell_type": "code",
   "execution_count": null,
   "metadata": {},
   "outputs": [],
   "source": []
  }
 ],
 "metadata": {
  "kernelspec": {
   "display_name": "Python 3",
   "language": "python",
   "name": "python3"
  },
  "language_info": {
   "codemirror_mode": {
    "name": "ipython",
    "version": 3
   },
   "file_extension": ".py",
   "mimetype": "text/x-python",
   "name": "python",
   "nbconvert_exporter": "python",
   "pygments_lexer": "ipython3",
   "version": "3.11.9"
  }
 },
 "nbformat": 4,
 "nbformat_minor": 2
}
