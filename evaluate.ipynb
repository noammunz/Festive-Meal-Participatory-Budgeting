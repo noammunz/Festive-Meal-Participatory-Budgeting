{
 "cells": [
  {
   "cell_type": "code",
   "execution_count": 16,
   "metadata": {},
   "outputs": [],
   "source": [
    "import itertools"
   ]
  },
  {
   "cell_type": "markdown",
   "metadata": {},
   "source": [
    "# Helper"
   ]
  },
  {
   "cell_type": "code",
   "execution_count": 1,
   "metadata": {},
   "outputs": [],
   "source": [
    "menu = {\n",
    "    \"pizza\": 100,\n",
    "    \"falafel\": 210,\n",
    "    \"hotdogs\": 75,\n",
    "    \"hamburger\": 230,\n",
    "    \"humus\": 170,\n",
    "    \"fruits_and_vegetables\": 100,\n",
    "    \"cheese_and_crackers\": 100,\n",
    "    \"baked_goods\": 135,\n",
    "    \"salty_snacks\": 60,\n",
    "    \"nut_mix\": 100,\n",
    "    \"ice_cream\": 90,\n",
    "    \"cake\": 22,\n",
    "    \"cookies\": 40,\n",
    "    \"juice\": 13,\n",
    "    \"water\": 9,\n",
    "    \"sparkling_water\": 14,\n",
    "    \"soft_drinks\": 18\n",
    "}\n"
   ]
  },
  {
   "cell_type": "code",
   "execution_count": 2,
   "metadata": {},
   "outputs": [],
   "source": [
    "def satisfaction_cardinality(voters, outcome):    \n",
    "    sum = 0\n",
    "    for votes in voters.values():\n",
    "        sum += len(outcome.intersection(votes))\n",
    "    sat_card = sum / len(voters)\n",
    "    return sat_card.__round__(2)"
   ]
  },
  {
   "cell_type": "code",
   "execution_count": 3,
   "metadata": {},
   "outputs": [],
   "source": [
    "budget = 400\n",
    "def satisfaction_cost(voters, outcome):    \n",
    "    sum = 0\n",
    "    for votes in voters.values():\n",
    "        choosen = outcome.intersection(votes)\n",
    "        for food in choosen:\n",
    "            sum += menu[food]\n",
    "    sat_cost = sum / budget\n",
    "    return sat_cost.__round__(2)"
   ]
  },
  {
   "cell_type": "code",
   "execution_count": 34,
   "metadata": {},
   "outputs": [],
   "source": [
    "def fairness(voters, outcome):\n",
    "    power_set_of_keys = []\n",
    "    voter = list(voters.keys())\n",
    "    unfair = []\n",
    "    for r in range(len(voter) + 1):\n",
    "        subsets = itertools.combinations(voter, r)\n",
    "        power_set_of_keys.extend(subsets)\n",
    "    power_set_of_keys = power_set_of_keys[1:]\n",
    "    for combin in power_set_of_keys:\n",
    "        pv = set()\n",
    "        v = []\n",
    "        for i in range(len(combin)):\n",
    "            v.append(combin[i])\n",
    "            pv = pv.union(voters[combin[i]])\n",
    "        if len(outcome.intersection(pv)) < 1:\n",
    "            unfair.append(v)\n",
    "    if len(unfair) > 0:\n",
    "        print(unfair)\n",
    "        return False\n",
    "    return True"
   ]
  },
  {
   "cell_type": "code",
   "execution_count": 38,
   "metadata": {},
   "outputs": [],
   "source": [
    "def fairness(voters, outcome):\n",
    "    power_set_of_keys = []\n",
    "    voter = list(voters.keys())\n",
    "    unfair = []\n",
    "    for r in range(len(voter) + 1):\n",
    "        subsets = itertools.combinations(voter, r)\n",
    "        power_set_of_keys.extend(subsets)\n",
    "    power_set_of_keys = power_set_of_keys[1:]\n",
    "    for combin in power_set_of_keys:\n",
    "        pv = set()\n",
    "        v = []\n",
    "        for i in range(len(combin)):\n",
    "            v.append(combin[i])\n",
    "            pv = pv.union(voters[combin[i]])\n",
    "        if len(outcome.intersection(pv)) < 1:\n",
    "            unfair.append(v)\n",
    "    if len(unfair) > 0:\n",
    "        print(unfair)\n",
    "        return False\n",
    "    return True"
   ]
  },
  {
   "cell_type": "code",
   "execution_count": 59,
   "metadata": {},
   "outputs": [],
   "source": [
    "def fairness_hard(voters, outcome):\n",
    "    power_set_of_keys = []\n",
    "    voter = list(voters.keys())\n",
    "    unfair = []\n",
    "    for r in range(len(voter) + 1):\n",
    "        subsets = itertools.combinations(voter, r)\n",
    "        power_set_of_keys.extend(subsets)\n",
    "    power_set_of_keys = power_set_of_keys[1:]\n",
    "    for combin in power_set_of_keys:\n",
    "        pv = set()\n",
    "        v = []\n",
    "        for i in range(len(combin)):\n",
    "            v.append(combin[i])\n",
    "            pv = pv.union(voters[combin[i]])\n",
    "        if (len(pv.intersection(outcome)) / len(outcome)) < (len(v) / len(voters)):\n",
    "            unfair.append(v)\n",
    "    if len(unfair) > 0:\n",
    "        print(unfair)\n",
    "        return False\n",
    "    return True"
   ]
  },
  {
   "cell_type": "markdown",
   "metadata": {},
   "source": [
    "# Approval"
   ]
  },
  {
   "cell_type": "code",
   "execution_count": 4,
   "metadata": {},
   "outputs": [],
   "source": [
    "approval_vote = {\n",
    "    \"munz\" :   set([\"soft_drinks\", \"pizza\", \"falafel\", \"humus\", \"baked_goods\", \"ice_cream\"]),\n",
    "    \"mor\" :    set([\"pizza\", \"fruits_and_vegetables\"]),\n",
    "    \"noy\" :    set([\"pizza\", \"baked_goods\", \"salty_snacks\", \"ice_cream\"]),\n",
    "    \"roeiza\" : set([\"soft_drinks\", \"pizza\"]),\n",
    "    \"ron\" :    set([\"juice\", \"baked_goods\", \"salty_snacks\", \"cake\", \"cookies\"]),\n",
    "    \"alon\" :   set([\"soft_drinks\"]),\n",
    "    \"perid\" :  set([\"juice\", \"water\", \"sparkling_water\", \"soft_drinks\", \"pizza\", \"baked_goods\", \"cake\", \"cookies\"]),\n",
    "    \"avihai\" : set([\"juice\", \"pizza\", \"cheese_and_crackers\", \"ice_cream\"]),\n",
    "    \"itai\" :   set([\"juice\", \"water\", \"falafel\", \"salty_snacks\", 'ice_cream']),\n",
    "    \"sagiv\" :  set([\"water\", \"pizza\", \"baked_goods\"]),\n",
    "    \"avi\" :    set([\"water\", \"sparkling_water\", \"humus\", \"cheese_and_crackers\", \"fruits_and_vegetables\"]),\n",
    "    \"kobi\" :   set([\"sparkling_water\", \"humus\", \"cheese_and_crackers\", \"fruits_and_vegetables\"]),\n",
    "    \"noga\" :   set([\"baked_goods\", \"ice_cream\"])\n",
    "}"
   ]
  },
  {
   "cell_type": "code",
   "execution_count": 5,
   "metadata": {},
   "outputs": [],
   "source": [
    "outcome1 = set([\"pizza\", \"baked_goods\", \"ice_cream\", \"juice\", \"soft_drinks\", \"water\"])"
   ]
  },
  {
   "cell_type": "markdown",
   "metadata": {},
   "source": [
    "# Points"
   ]
  },
  {
   "cell_type": "code",
   "execution_count": 6,
   "metadata": {},
   "outputs": [],
   "source": [
    "points_vote = {\n",
    "    \"munz\" :   set([\"pizza\", \"falafel\", \"humus\", \"cheese_and_crackers\", \"baked_goods\", \"nut_mix\", \"ice_cream\", \"cake\", \"cookies\", \"soft_drinks\"]),\n",
    "    \"mor\" :    set([\"pizza\"]),\n",
    "    \"noy\" :    set([\"pizza\", \"baked_goods\", \"salty_snacks\", \"ice_cream\"]),\n",
    "    \"roeiza\" : set([\"soft_drinks\", \"falafel\", \"pizza\"]),\n",
    "    \"ron\" :    set([\"baked_goods\", \"salty_snacks\", \"cake\", \"cookies\"]),\n",
    "    \"alon\" :   set([\"pizza\"]),\n",
    "    \"perid\" :  set([\"pizza\", \"fruits_and_vegetables\", \"cheese_and_crackers\", \"baked_goods\", \"cake\", \"cookies\", \"juice\", \"water\", \"sparkling_water\", \"soft_drinks\"]),\n",
    "    \"avihai\" : set([\"juice\", \"pizza\", \"ice_cream\"]),\n",
    "    \"itai\" :   set([\"juice\", \"falafel\", \"salty_snacks\", 'ice_cream']),\n",
    "    \"sagiv\" :  set([\"pizza\", \"baked_goods\"]),\n",
    "    \"avi\" :    set([\"water\", \"baked_goods\", \"cheese_and_crackers\", \"fruits_and_vegetables\"]),\n",
    "    \"kobi\" :   set([\"sparkling_water\", \"humus\", \"cheese_and_crackers\", \"fruits_and_vegetables\"]),\n",
    "    \"noga\" :   set([\"pizza\", \"baked_goods\", \"fruits_and_vegetables\"])\n",
    "}"
   ]
  },
  {
   "cell_type": "code",
   "execution_count": 7,
   "metadata": {},
   "outputs": [],
   "source": [
    "outcome2 = set([\"pizza\", \"baked_goods\", \"salty_snacks\", \"ice_cream\", \"juice\", \"soft_drinks\", \"sparkling_water\"])"
   ]
  },
  {
   "cell_type": "code",
   "execution_count": 8,
   "metadata": {},
   "outputs": [],
   "source": [
    "outcome3 = set([\"pizza\", \"baked_goods\", \"cheese_and_crackers\", \"cake\", \"juice\"])"
   ]
  },
  {
   "cell_type": "markdown",
   "metadata": {},
   "source": [
    "# Results"
   ]
  },
  {
   "cell_type": "code",
   "execution_count": 9,
   "metadata": {},
   "outputs": [
    {
     "name": "stdout",
     "output_type": "stream",
     "text": [
      "2.31\n",
      "2.38\n",
      "2.0\n"
     ]
    }
   ],
   "source": [
    "sat_card1 = satisfaction_cardinality(approval_vote, outcome1)\n",
    "sat_card2 = satisfaction_cardinality(points_vote, outcome2)\n",
    "sat_card3 = satisfaction_cardinality(points_vote, outcome3)\n",
    "print(sat_card1)\n",
    "print(sat_card2)\n",
    "print(sat_card3)"
   ]
  },
  {
   "cell_type": "code",
   "execution_count": 10,
   "metadata": {},
   "outputs": [
    {
     "name": "stdout",
     "output_type": "stream",
     "text": [
      "5.3\n",
      "6.26\n",
      "5.88\n"
     ]
    }
   ],
   "source": [
    "sat_cost1 = satisfaction_cost(approval_vote, outcome1)\n",
    "sat_cost2 = satisfaction_cost(points_vote, outcome2)\n",
    "sat_cost3 = satisfaction_cost(points_vote, outcome3)\n",
    "print(sat_cost1)\n",
    "print(sat_cost2)\n",
    "print(sat_cost3)"
   ]
  },
  {
   "cell_type": "code",
   "execution_count": 41,
   "metadata": {},
   "outputs": [
    {
     "name": "stdout",
     "output_type": "stream",
     "text": [
      "[['kobi']]\n",
      "False\n",
      "True\n",
      "True\n"
     ]
    }
   ],
   "source": [
    "fairness1 = fairness(approval_vote, outcome1)\n",
    "fairness2 = fairness(points_vote, outcome2)\n",
    "fairness3 = fairness(points_vote, outcome3)\n",
    "print(fairness1)\n",
    "print(fairness2)\n",
    "print(fairness3)"
   ]
  },
  {
   "cell_type": "code",
   "execution_count": 60,
   "metadata": {},
   "outputs": [
    {
     "name": "stdout",
     "output_type": "stream",
     "text": [
      "[['kobi']]\n",
      "[['mor', 'alon'], ['mor', 'alon', 'sagiv', 'avi'], ['mor', 'alon', 'sagiv', 'noga'], ['mor', 'alon', 'avi', 'noga'], ['mor', 'sagiv', 'avi', 'noga'], ['alon', 'sagiv', 'avi', 'noga'], ['mor', 'alon', 'sagiv', 'avi', 'noga'], ['mor', 'roeiza', 'alon', 'sagiv', 'avi', 'noga'], ['mor', 'ron', 'alon', 'sagiv', 'avi', 'noga'], ['mor', 'alon', 'sagiv', 'avi', 'kobi', 'noga']]\n",
      "[['mor', 'roeiza', 'alon'], ['mor', 'noy', 'roeiza', 'alon', 'sagiv', 'noga'], ['mor', 'noy', 'roeiza', 'alon', 'avihai', 'itai', 'sagiv', 'noga'], ['mor', 'noy', 'roeiza', 'alon', 'sagiv', 'avi', 'kobi', 'noga']]\n",
      "False\n",
      "False\n",
      "False\n"
     ]
    }
   ],
   "source": [
    "fairness1 = fairness_hard(approval_vote, outcome1)\n",
    "fairness2 = fairness_hard(points_vote, outcome2)\n",
    "fairness3 = fairness_hard(points_vote, outcome3)\n",
    "print(fairness1)\n",
    "print(fairness2)\n",
    "print(fairness3)"
   ]
  }
 ],
 "metadata": {
  "kernelspec": {
   "display_name": "Python 3",
   "language": "python",
   "name": "python3"
  },
  "language_info": {
   "codemirror_mode": {
    "name": "ipython",
    "version": 3
   },
   "file_extension": ".py",
   "mimetype": "text/x-python",
   "name": "python",
   "nbconvert_exporter": "python",
   "pygments_lexer": "ipython3",
   "version": "3.11.0"
  }
 },
 "nbformat": 4,
 "nbformat_minor": 2
}
